{
 "cells": [
  {
   "cell_type": "code",
   "execution_count": 15,
   "id": "4b52f4fa-3917-4046-8a13-4da1a253f257",
   "metadata": {},
   "outputs": [],
   "source": [
    "# Importing the Psi4 module\n",
    "import psi4\n"
   ]
  },
  {
   "cell_type": "code",
   "execution_count": 16,
   "id": "05480615-1767-4df2-8f63-a4508c7c0b5a",
   "metadata": {},
   "outputs": [
    {
     "name": "stdout",
     "output_type": "stream",
     "text": [
      "CPU times: user 0 ns, sys: 776 µs, total: 776 µs\n",
      "Wall time: 1.03 ms\n"
     ]
    },
    {
     "data": {
      "text/plain": [
       "PosixPath('output.dat')"
      ]
     },
     "execution_count": 16,
     "metadata": {},
     "output_type": "execute_result"
    }
   ],
   "source": [
    "%%time\n",
    "# Setting up the output file\n",
    "psi4.set_output_file('output.dat', False)\n"
   ]
  },
  {
   "cell_type": "code",
   "execution_count": 17,
   "id": "d43ad6ee-9c50-4245-9ada-b0ba4d7d6d6f",
   "metadata": {},
   "outputs": [
    {
     "name": "stdout",
     "output_type": "stream",
     "text": [
      "CPU times: user 296 ms, sys: 11 ms, total: 307 ms\n",
      "Wall time: 329 ms\n"
     ]
    },
    {
     "data": {
      "text/plain": [
       "-76.0266327350902"
      ]
     },
     "execution_count": 17,
     "metadata": {},
     "output_type": "execute_result"
    }
   ],
   "source": [
    "%%time\n",
    "# Setting memory for Psi4\n",
    "psi4.set_memory('500 MB')\n",
    "\n",
    "# Defining the geometry of the water molecule\n",
    "h2o = psi4.geometry(\"\"\"\n",
    "O\n",
    "H 1 0.96\n",
    "H 1 0.96 2 104.5\n",
    "\"\"\")\n",
    "\n",
    "# Running a Hartree-Fock calculation with a cc-pVDZ basis set\n",
    "psi4.energy('scf/cc-pvdz')\n"
   ]
  },
  {
   "cell_type": "code",
   "execution_count": 18,
   "id": "5f9e7a45-21cc-429e-a9e2-75e5e8161470",
   "metadata": {},
   "outputs": [
    {
     "name": "stdout",
     "output_type": "stream",
     "text": [
      "CPU times: user 288 ms, sys: 9.85 ms, total: 298 ms\n",
      "Wall time: 301 ms\n"
     ]
    },
    {
     "data": {
      "text/plain": [
       "-38.92533462893707"
      ]
     },
     "execution_count": 18,
     "metadata": {},
     "output_type": "execute_result"
    }
   ],
   "source": [
    "%%time\n",
    "# Defining bond length and angle for CH₂\n",
    "R = 1.075\n",
    "A = 133.93\n",
    "\n",
    "# Defining the geometry of the CH₂ molecule with triplet state\n",
    "ch2 = psi4.geometry(\"\"\"\n",
    "0 3\n",
    "C\n",
    "H 1 {0}\n",
    "H 1 {0} 2 {1}\n",
    "\"\"\".format(R, A))\n",
    "\n",
    "# Setting options for an unrestricted Hartree-Fock calculation\n",
    "psi4.set_options({'reference': 'uhf'})\n",
    "\n",
    "# Calculating the energy\n",
    "psi4.energy('scf/6-31g**')\n"
   ]
  },
  {
   "cell_type": "code",
   "execution_count": 19,
   "id": "c377b44a-7e12-45b9-8d01-a826cbc576e8",
   "metadata": {},
   "outputs": [
    {
     "name": "stdout",
     "output_type": "stream",
     "text": [
      "Optimizer: Optimization complete!\n",
      "CPU times: user 859 ms, sys: 24.9 ms, total: 884 ms\n",
      "Wall time: 894 ms\n"
     ]
    },
    {
     "data": {
      "text/plain": [
       "-76.02703272937481"
      ]
     },
     "execution_count": 19,
     "metadata": {},
     "output_type": "execute_result"
    }
   ],
   "source": [
    "%%time\n",
    "# Setting options for restricted Hartree-Fock\n",
    "psi4.set_options({'reference': 'rhf'})\n",
    "\n",
    "# Optimizing geometry\n",
    "psi4.optimize('scf/cc-pvdz', molecule=h2o)\n"
   ]
  },
  {
   "cell_type": "code",
   "execution_count": 20,
   "id": "1cea7300-909f-40db-a5aa-e5043ae4dd5d",
   "metadata": {},
   "outputs": [
    {
     "name": "stdout",
     "output_type": "stream",
     "text": [
      "CPU times: user 1.02 s, sys: 20.9 ms, total: 1.04 s\n",
      "Wall time: 1.05 s\n"
     ]
    }
   ],
   "source": [
    "%%time\n",
    "\n",
    "# Calculating vibrational frequencies\n",
    "scf_e, scf_wfn = psi4.frequency('scf/cc-pvdz', molecule=h2o, return_wfn=True)\n"
   ]
  },
  {
   "cell_type": "code",
   "execution_count": 21,
   "id": "d8339cdd-0a3f-457a-aefe-6e3f234a39fc",
   "metadata": {},
   "outputs": [
    {
     "name": "stdout",
     "output_type": "stream",
     "text": [
      "building SAPT EXCHSCAL1 ....................................SUCCESS\n",
      "building SAPT EXCHSCAL3 ....................................SUCCESS\n",
      "building SAPT EXCHSCAL .....................................SUCCESS\n",
      "building SAPT HF(2) ALPHA=0.0 ENERGY .......................SUCCESS\n",
      "building SAPT HF(2),U ALPHA=0.0 ENERGY .....................EMPTY, missing SAPT IND20,U ENERGY\n",
      "building SAPT HF(2) ENERGY .................................SUCCESS\n",
      "building SAPT HF(2),U ENERGY ...............................EMPTY, missing SAPT HF(2),U ALPHA=0.0 ENERGY\n",
      "building SAPT HF(3) ENERGY .................................EMPTY, missing SAPT IND30,R ENERGY\n",
      "building SAPT MP2(2) ENERGY ................................EMPTY, missing SAPT MP2 CORRELATION ENERGY\n",
      "building SAPT MP2(3) ENERGY ................................EMPTY, missing SAPT MP2(2) ENERGY\n",
      "building SAPT MP4 DISP .....................................EMPTY, missing SAPT DISP21 ENERGY\n",
      "building SAPT CCD DISP .....................................EMPTY, missing SAPT DISP2(CCD) ENERGY\n",
      "building SAPT0 ELST ENERGY .................................SUCCESS\n",
      "building SAPT0 EXCH ENERGY .................................SUCCESS\n",
      "building SAPT0 IND ENERGY ..................................SUCCESS\n",
      "building SAPT0 IND,U ENERGY ................................EMPTY, missing SAPT HF(2),U ENERGY\n",
      "building SAPT0 DISP ENERGY .................................SUCCESS\n",
      "building SAPT0 TOTAL ENERGY ................................SUCCESS\n",
      "building SSAPT0 ELST ENERGY ................................SUCCESS\n",
      "building SSAPT0 EXCH ENERGY ................................SUCCESS\n",
      "building SSAPT0 IND ENERGY .................................SUCCESS\n",
      "building SSAPT0 IND,U ENERGY ...............................EMPTY, missing SAPT0 IND,U ENERGY\n",
      "building SSAPT0 DISP ENERGY ................................SUCCESS\n",
      "building SSAPT0 TOTAL ENERGY ...............................SUCCESS\n",
      "building SCS-SAPT0 ELST ENERGY .............................SUCCESS\n",
      "building SCS-SAPT0 EXCH ENERGY .............................SUCCESS\n",
      "building SCS-SAPT0 IND ENERGY ..............................SUCCESS\n",
      "building SCS-SAPT0 IND,U ENERGY ............................EMPTY, missing SAPT0 IND,U ENERGY\n",
      "building SCS-SAPT0 DISP ENERGY .............................SUCCESS\n",
      "building SCS-SAPT0 TOTAL ENERGY ............................SUCCESS\n",
      "building SAPT2 ELST ENERGY .................................EMPTY, missing SAPT ELST12,R ENERGY\n",
      "building SAPT2 EXCH ENERGY .................................EMPTY, missing SAPT EXCH11(S^2) ENERGY\n",
      "building SAPT2 IND ENERGY ..................................EMPTY, missing SAPT IND22 ENERGY\n",
      "building SAPT2 DISP ENERGY .................................SUCCESS\n",
      "building SAPT2 TOTAL ENERGY ................................EMPTY, missing SAPT2 ELST ENERGY\n",
      "building SAPT2+ ELST ENERGY ................................EMPTY, missing SAPT ELST12,R ENERGY\n",
      "building SAPT2+ EXCH ENERGY ................................EMPTY, missing SAPT EXCH11(S^2) ENERGY\n",
      "building SAPT2+ IND ENERGY .................................EMPTY, missing SAPT IND22 ENERGY\n",
      "building SAPT2+ DISP ENERGY ................................EMPTY, missing SAPT MP4 DISP\n",
      "building SAPT2+ TOTAL ENERGY ...............................EMPTY, missing SAPT2+ ELST ENERGY\n",
      "building SAPT2+(CCD) ELST ENERGY ...........................EMPTY, missing SAPT2+ ELST ENERGY\n",
      "building SAPT2+(CCD) EXCH ENERGY ...........................EMPTY, missing SAPT2+ EXCH ENERGY\n",
      "building SAPT2+(CCD) IND ENERGY ............................EMPTY, missing SAPT2+ IND ENERGY\n",
      "building SAPT2+(CCD) DISP ENERGY ...........................EMPTY, missing SAPT CCD DISP\n",
      "building SAPT2+(CCD) TOTAL ENERGY ..........................EMPTY, missing SAPT2+(CCD) ELST ENERGY\n",
      "building SAPT2+DMP2 ELST ENERGY ............................EMPTY, missing SAPT2+ ELST ENERGY\n",
      "building SAPT2+DMP2 EXCH ENERGY ............................EMPTY, missing SAPT2+ EXCH ENERGY\n",
      "building SAPT2+DMP2 IND ENERGY .............................EMPTY, missing SAPT2+ IND ENERGY\n",
      "building SAPT2+DMP2 DISP ENERGY ............................EMPTY, missing SAPT2+ DISP ENERGY\n",
      "building SAPT2+DMP2 TOTAL ENERGY ...........................EMPTY, missing SAPT2+DMP2 ELST ENERGY\n",
      "building SAPT2+(CCD)DMP2 ELST ENERGY .......................EMPTY, missing SAPT2+ ELST ENERGY\n",
      "building SAPT2+(CCD)DMP2 EXCH ENERGY .......................EMPTY, missing SAPT2+ EXCH ENERGY\n",
      "building SAPT2+(CCD)DMP2 IND ENERGY ........................EMPTY, missing SAPT2+DMP2 IND ENERGY\n",
      "building SAPT2+(CCD)DMP2 DISP ENERGY .......................EMPTY, missing SAPT2+(CCD) DISP ENERGY\n",
      "building SAPT2+(CCD)DMP2 TOTAL ENERGY ......................EMPTY, missing SAPT2+(CCD)DMP2 ELST ENERGY\n",
      "building SAPT2+(3) ELST ENERGY .............................EMPTY, missing SAPT ELST12,R ENERGY\n",
      "building SAPT2+(3) EXCH ENERGY .............................EMPTY, missing SAPT EXCH11(S^2) ENERGY\n",
      "building SAPT2+(3) IND ENERGY ..............................EMPTY, missing SAPT IND22 ENERGY\n",
      "building SAPT2+(3) DISP ENERGY .............................EMPTY, missing SAPT MP4 DISP\n",
      "building SAPT2+(3) TOTAL ENERGY ............................EMPTY, missing SAPT2+(3) ELST ENERGY\n",
      "building SAPT2+(3)(CCD) ELST ENERGY ........................EMPTY, missing SAPT2+(3) ELST ENERGY\n",
      "building SAPT2+(3)(CCD) EXCH ENERGY ........................EMPTY, missing SAPT2+(3) EXCH ENERGY\n",
      "building SAPT2+(3)(CCD) IND ENERGY .........................EMPTY, missing SAPT2+(3) IND ENERGY\n",
      "building SAPT2+(3)(CCD) DISP ENERGY ........................EMPTY, missing SAPT CCD DISP\n",
      "building SAPT2+(3)(CCD) TOTAL ENERGY .......................EMPTY, missing SAPT2+(3)(CCD) ELST ENERGY\n",
      "building SAPT2+(3)DMP2 ELST ENERGY .........................EMPTY, missing SAPT2+(3) ELST ENERGY\n",
      "building SAPT2+(3)DMP2 EXCH ENERGY .........................EMPTY, missing SAPT2+(3) EXCH ENERGY\n",
      "building SAPT2+(3)DMP2 IND ENERGY ..........................EMPTY, missing SAPT2+(3) IND ENERGY\n",
      "building SAPT2+(3)DMP2 DISP ENERGY .........................EMPTY, missing SAPT2+(3) DISP ENERGY\n",
      "building SAPT2+(3)DMP2 TOTAL ENERGY ........................EMPTY, missing SAPT2+(3)DMP2 ELST ENERGY\n",
      "building SAPT2+(3)(CCD)DMP2 ELST ENERGY ....................EMPTY, missing SAPT2+(3) ELST ENERGY\n",
      "building SAPT2+(3)(CCD)DMP2 EXCH ENERGY ....................EMPTY, missing SAPT2+(3) EXCH ENERGY\n",
      "building SAPT2+(3)(CCD)DMP2 IND ENERGY .....................EMPTY, missing SAPT2+(3)DMP2 IND ENERGY\n",
      "building SAPT2+(3)(CCD)DMP2 DISP ENERGY ....................EMPTY, missing SAPT2+(3)(CCD) DISP ENERGY\n",
      "building SAPT2+(3)(CCD)DMP2 TOTAL ENERGY ...................EMPTY, missing SAPT2+(3)(CCD)DMP2 ELST ENERGY\n",
      "building SAPT2+3 ELST ENERGY ...............................EMPTY, missing SAPT ELST12,R ENERGY\n",
      "building SAPT2+3 EXCH ENERGY ...............................EMPTY, missing SAPT EXCH11(S^2) ENERGY\n",
      "building SAPT2+3 IND ENERGY ................................EMPTY, missing SAPT HF(3) ENERGY\n",
      "building SAPT2+3 DISP ENERGY ...............................EMPTY, missing SAPT MP4 DISP\n",
      "building SAPT2+3 TOTAL ENERGY ..............................EMPTY, missing SAPT2+3 ELST ENERGY\n",
      "building SAPT2+3(CCD) ELST ENERGY ..........................EMPTY, missing SAPT2+3 ELST ENERGY\n",
      "building SAPT2+3(CCD) EXCH ENERGY ..........................EMPTY, missing SAPT2+3 EXCH ENERGY\n",
      "building SAPT2+3(CCD) IND ENERGY ...........................EMPTY, missing SAPT2+3 IND ENERGY\n",
      "building SAPT2+3(CCD) DISP ENERGY ..........................EMPTY, missing SAPT CCD DISP\n",
      "building SAPT2+3(CCD) TOTAL ENERGY .........................EMPTY, missing SAPT2+3(CCD) ELST ENERGY\n",
      "building SAPT2+3DMP2 ELST ENERGY ...........................EMPTY, missing SAPT2+3 ELST ENERGY\n",
      "building SAPT2+3DMP2 EXCH ENERGY ...........................EMPTY, missing SAPT2+3 EXCH ENERGY\n",
      "building SAPT2+3DMP2 IND ENERGY ............................EMPTY, missing SAPT2+3 IND ENERGY\n",
      "building SAPT2+3DMP2 DISP ENERGY ...........................EMPTY, missing SAPT2+3 DISP ENERGY\n",
      "building SAPT2+3DMP2 TOTAL ENERGY ..........................EMPTY, missing SAPT2+3DMP2 ELST ENERGY\n",
      "building SAPT2+3(CCD)DMP2 ELST ENERGY ......................EMPTY, missing SAPT2+3 ELST ENERGY\n",
      "building SAPT2+3(CCD)DMP2 EXCH ENERGY ......................EMPTY, missing SAPT2+3 EXCH ENERGY\n",
      "building SAPT2+3(CCD)DMP2 IND ENERGY .......................EMPTY, missing SAPT2+3DMP2 IND ENERGY\n",
      "building SAPT2+3(CCD)DMP2 DISP ENERGY ......................EMPTY, missing SAPT2+3(CCD) DISP ENERGY\n",
      "building SAPT2+3(CCD)DMP2 TOTAL ENERGY .....................EMPTY, missing SAPT2+3(CCD)DMP2 ELST ENERGY\n",
      "CPU times: user 3.97 s, sys: 287 ms, total: 4.26 s\n",
      "Wall time: 4.53 s\n"
     ]
    },
    {
     "data": {
      "text/plain": [
       "-0.0022355823909805178"
      ]
     },
     "execution_count": 21,
     "metadata": {},
     "output_type": "execute_result"
    }
   ],
   "source": [
    "%%time\n",
    "# Defining the geometry of the ethene-ethyne dimer\n",
    "dimer = psi4.geometry(\"\"\"\n",
    "0 1\n",
    "C   0.000000  -0.667578  -2.124659\n",
    "C   0.000000   0.667578  -2.124659\n",
    "H   0.923621  -1.232253  -2.126185\n",
    "H  -0.923621  -1.232253  -2.126185\n",
    "H  -0.923621   1.232253  -2.126185\n",
    "H   0.923621   1.232253  -2.126185\n",
    "--\n",
    "0 1\n",
    "C   0.000000   0.000000   2.900503\n",
    "C   0.000000   0.000000   1.693240\n",
    "H   0.000000   0.000000   0.627352\n",
    "H   0.000000   0.000000   3.963929\n",
    "units angstrom\n",
    "\"\"\")\n",
    "\n",
    "# Setting options for SAPT calculation\n",
    "psi4.set_options({'scf_type': 'df', 'freeze_core': True})\n",
    "\n",
    "# Running SAPT calculation\n",
    "psi4.energy('sapt0/jun-cc-pvdz', molecule=dimer)\n"
   ]
  },
  {
   "cell_type": "code",
   "execution_count": 22,
   "id": "e56f4a4c-7ae9-424d-815b-9fb8241e9207",
   "metadata": {},
   "outputs": [
    {
     "name": "stdout",
     "output_type": "stream",
     "text": [
      "CP-corrected CCSD(T)/aug-cc-pVDZ Interaction Energies\n",
      "\n",
      "\n",
      "          R [Ang]                 E_int [kcal/mol]       \n",
      "---------------------------------------------------------\n",
      "            2.5                        0.758605\n",
      "            3.0                        0.015968\n",
      "            4.0                        -0.016215\n",
      "CPU times: user 5.78 s, sys: 1.61 s, total: 7.38 s\n",
      "Wall time: 11.6 s\n"
     ]
    }
   ],
   "source": [
    "%%time\n",
    "# Defining geometry for Neon dimer with variable distance\n",
    "ne2_geometry = \"\"\"\n",
    "Ne\n",
    "--\n",
    "Ne 1 {0}\n",
    "\"\"\"\n",
    "\n",
    "# List of interatomic distances\n",
    "Rvals = [2.5, 3.0, 4.0]\n",
    "\n",
    "# Setting options\n",
    "psi4.set_options({'freeze_core': True})\n",
    "\n",
    "# Counterpoise correction calculation\n",
    "ecp = {}\n",
    "for R in Rvals:\n",
    "    ne2 = psi4.geometry(ne2_geometry.format(R))\n",
    "    ecp[R] = psi4.energy('ccsd(t)/aug-cc-pvdz', bsse_type='cp', molecule=ne2)\n",
    "\n",
    "# Displaying results\n",
    "print(\"CP-corrected CCSD(T)/aug-cc-pVDZ Interaction Energies\\n\\n\")\n",
    "print(\"          R [Ang]                 E_int [kcal/mol]       \")\n",
    "print(\"---------------------------------------------------------\")\n",
    "for R in Rvals:\n",
    "    e = ecp[R] * psi4.constants.hartree2kcalmol\n",
    "    print(\"            {:3.1f}                        {:1.6f}\".format(R, e))\n"
   ]
  },
  {
   "cell_type": "code",
   "execution_count": null,
   "id": "b9892bda-77e7-4fad-8e88-3a4c76de20ce",
   "metadata": {},
   "outputs": [],
   "source": []
  }
 ],
 "metadata": {
  "kernelspec": {
   "display_name": "lab_env_2024",
   "language": "python",
   "name": "lab_env_2024"
  },
  "language_info": {
   "codemirror_mode": {
    "name": "ipython",
    "version": 3
   },
   "file_extension": ".py",
   "mimetype": "text/x-python",
   "name": "python",
   "nbconvert_exporter": "python",
   "pygments_lexer": "ipython3",
   "version": "3.9.12"
  }
 },
 "nbformat": 4,
 "nbformat_minor": 5
}
