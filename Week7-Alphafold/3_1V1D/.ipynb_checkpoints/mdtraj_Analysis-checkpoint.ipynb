{
 "cells": [
  {
   "cell_type": "code",
   "execution_count": null,
   "id": "f3216197-4fbe-42cb-97eb-9945febd5950",
   "metadata": {},
   "outputs": [],
   "source": [
    "import mdtraj as md\n",
    "import numpy as np\n",
    "import matplotlib.pyplot as plt\n",
    "\n",
    "# Load all PDB files into a single trajectory\n",
    "# Assuming your files are named similarly and located in the same directory\n",
    "import glob\n",
    "pdb_files = glob.glob('Outputs/*.pdb')  # Adjust to the correct path\n",
    "traj = md.load(pdb_files)\n",
    "\n",
    "# Align/superimpose all structures based on alpha carbons (CA atoms)\n",
    "ca_atoms = traj.top.select_atom_indices('CA')  # Select only CA atoms for alignment\n",
    "traj.superpose(traj, atom_indices=ca_atoms)\n",
    "\n",
    "# Calculate the RMSF (root-mean-square fluctuation) for each residue\n",
    "rmsf = md.rmsf(traj, traj[0], atom_indices=ca_atoms, parallel=True)\n",
    "\n",
    "# Generate residue indices (IDs) for plotting\n",
    "residue_indices = np.arange(1, len(rmsf) + 1)\n",
    "\n",
    "# Plot RMSF vs Residue ID\n",
    "plt.figure(figsize=(10, 6))\n",
    "plt.bar(residue_indices, rmsf, color='skyblue')\n",
    "plt.xlabel('Residue ID')\n",
    "plt.ylabel('RMSF (nm)')\n",
    "plt.title('Root-Mean-Square Fluctuation (RMSF) per Residue')\n",
    "plt.grid(axis='y', linestyle='--', alpha=0.7)\n",
    "plt.tight_layout()\n",
    "\n",
    "# Save the plot as an image file\n",
    "plt.savefig('Images/RMSF_per_Residue.png')  # Adjust path as needed\n",
    "plt.show()\n"
   ]
  }
 ],
 "metadata": {
  "kernelspec": {
   "display_name": "lab_env_2024",
   "language": "python",
   "name": "lab_env_2024"
  },
  "language_info": {
   "codemirror_mode": {
    "name": "ipython",
    "version": 3
   },
   "file_extension": ".py",
   "mimetype": "text/x-python",
   "name": "python",
   "nbconvert_exporter": "python",
   "pygments_lexer": "ipython3",
   "version": "3.9.12"
  }
 },
 "nbformat": 4,
 "nbformat_minor": 5
}
