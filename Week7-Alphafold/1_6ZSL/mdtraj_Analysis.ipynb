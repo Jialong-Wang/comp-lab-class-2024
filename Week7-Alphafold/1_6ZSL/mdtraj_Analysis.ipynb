{
 "cells": [
  {
   "cell_type": "code",
   "execution_count": 20,
   "id": "7008ff54-1d25-4a0c-b920-876cbe3e1f5e",
   "metadata": {},
   "outputs": [
    {
     "name": "stdout",
     "output_type": "stream",
     "text": [
      "Defaulting to user installation because normal site-packages is not writeable\n",
      "Requirement already satisfied: biopython in /ext3/miniconda3/lib/python3.9/site-packages (1.78)\n",
      "Requirement already satisfied: numpy in /ext3/miniconda3/lib/python3.9/site-packages (from biopython) (1.21.5)\n",
      "Note: you may need to restart the kernel to use updated packages.\n"
     ]
    }
   ],
   "source": [
    "pip install biopython"
   ]
  },
  {
   "cell_type": "code",
   "execution_count": 22,
   "id": "ff84f617-acec-4171-98e9-c44ed5ade16c",
   "metadata": {},
   "outputs": [],
   "source": [
    "import mdtraj as md\n",
    "from Bio import PDB\n",
    "\n",
    "# Load the .cif file using Biopython\n",
    "parser = PDB.MMCIFParser()\n",
    "structure = parser.get_structure('NSP13', 'Outputs/fold_week_7_model_0.cif')\n",
    "\n",
    "# Save the structure to a .pdb file in memory (if needed)\n",
    "io = PDB.PDBIO()\n",
    "io.set_structure(structure)\n",
    "io.save('Outputs/fold_week_7_model_0.pdb')  # Save it as a temporary .pdb file\n"
   ]
  },
  {
   "cell_type": "code",
   "execution_count": 23,
   "id": "a0d7764c-7b6e-481f-bda5-a0875a0b8a4d",
   "metadata": {},
   "outputs": [
    {
     "name": "stdout",
     "output_type": "stream",
     "text": [
      "Number of phosphate atoms selected: 8\n",
      "Number of oxygen atoms selected: 603\n",
      "\n",
      "Residues within 0.5 nm of phosphate atoms:\n",
      "\n",
      "Residues within 0.5 nm of oxygen atoms:\n",
      "TYR543\n",
      "ASN390\n",
      "HIS313\n",
      "ILE81\n",
      "SER1\n",
      "VAL234\n",
      "HIS466\n",
      "ASP544\n",
      "LEU160\n",
      "SER312\n"
     ]
    }
   ],
   "source": [
    "import mdtraj as md\n",
    "\n",
    "# Load the PDB file\n",
    "traj = md.load('Outputs/fold_week_7_model_0.pdb')\n",
    "\n",
    "# Select phosphate atoms (P) and oxygen atoms (O) in the system\n",
    "phosphate_atoms = traj.top.select('name P')  # Select all phosphate atoms\n",
    "oxygen_atoms = traj.top.select('name O')     # Select all oxygen atoms\n",
    "\n",
    "# Check how many atoms were selected to ensure selection was correct\n",
    "print(f\"Number of phosphate atoms selected: {len(phosphate_atoms)}\")\n",
    "print(f\"Number of oxygen atoms selected: {len(oxygen_atoms)}\")\n",
    "\n",
    "# Select all protein atoms (to calculate distances with RNA atoms)\n",
    "protein_atoms = traj.top.select('protein')\n",
    "\n",
    "# Compute distances between all protein atoms and phosphate atoms\n",
    "phosphate_pairs = [[i, j] for i in protein_atoms for j in phosphate_atoms]\n",
    "distances_phosphate = md.compute_distances(traj, phosphate_pairs)\n",
    "\n",
    "# Compute distances between all protein atoms and oxygen atoms\n",
    "oxygen_pairs = [[i, j] for i in protein_atoms for j in oxygen_atoms]\n",
    "distances_oxygen = md.compute_distances(traj, oxygen_pairs)\n",
    "\n",
    "# Identify residues within 0.5 nm of phosphate atoms\n",
    "print(\"\\nResidues within 0.5 nm of phosphate atoms:\")\n",
    "residues_near_phosphate = set()\n",
    "for i, atom_index in enumerate(protein_atoms):\n",
    "    if any(distances_phosphate[:, i] < 0.5):  # Check if any distance is below 0.5 nm\n",
    "        residues_near_phosphate.add(traj.top.atom(atom_index).residue)  # Add the residue, not the atom\n",
    "\n",
    "# Print unique residues near phosphate atoms\n",
    "for residue in residues_near_phosphate:\n",
    "    print(residue)\n",
    "\n",
    "# Identify residues within 0.5 nm of oxygen atoms\n",
    "print(\"\\nResidues within 0.5 nm of oxygen atoms:\")\n",
    "residues_near_oxygen = set()\n",
    "for i, atom_index in enumerate(protein_atoms):\n",
    "    if any(distances_oxygen[:, i] < 0.5):  # Check if any distance is below 0.5 nm\n",
    "        residues_near_oxygen.add(traj.top.atom(atom_index).residue)  # Add the residue, not the atom\n",
    "\n",
    "# Print unique residues near oxygen atoms\n",
    "for residue in residues_near_oxygen:\n",
    "    print(residue)"
   ]
  },
  {
   "cell_type": "code",
   "execution_count": null,
   "id": "8936352a-4764-4a9e-b03c-cf0bcb2fcf2d",
   "metadata": {},
   "outputs": [],
   "source": []
  }
 ],
 "metadata": {
  "kernelspec": {
   "display_name": "lab_env_2024",
   "language": "python",
   "name": "lab_env_2024"
  },
  "language_info": {
   "codemirror_mode": {
    "name": "ipython",
    "version": 3
   },
   "file_extension": ".py",
   "mimetype": "text/x-python",
   "name": "python",
   "nbconvert_exporter": "python",
   "pygments_lexer": "ipython3",
   "version": "3.9.12"
  }
 },
 "nbformat": 4,
 "nbformat_minor": 5
}
