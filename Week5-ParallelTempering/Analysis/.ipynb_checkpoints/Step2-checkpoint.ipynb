{
 "cells": [
  {
   "cell_type": "code",
   "execution_count": 4,
   "id": "8e3b2cb8-2eea-487b-9a1d-2508c116880a",
   "metadata": {},
   "outputs": [
    {
     "ename": "OSError",
     "evalue": "Sorry, no loader for filename=../Data/md_15ns.tpr (extension=.tpr) was found. I can only load files with extensions in dict_keys(['.arc', '.dcd', '.binpos', '.xtc', '.trr', '.hdf5', '.h5', '.ncdf', '.netcdf', '.nc', '.pdb.gz', '.pdb', '.lh5', '.crd', '.mdcrd', '.inpcrd', '.restrt', '.rst7', '.ncrst', '.lammpstrj', '.dtr', '.stk', '.gro', '.xyz.gz', '.xyz', '.tng', '.xml', '.mol2', '.hoomdxml', '.gsd'])",
     "output_type": "error",
     "traceback": [
      "\u001b[0;31m---------------------------------------------------------------------------\u001b[0m",
      "\u001b[0;31mKeyError\u001b[0m                                  Traceback (most recent call last)",
      "File \u001b[0;32m/ext3/miniconda3/lib/python3.9/site-packages/mdtraj/core/trajectory.py:401\u001b[0m, in \u001b[0;36mload\u001b[0;34m(filename_or_filenames, discard_overlapping_frames, **kwargs)\u001b[0m\n\u001b[1;32m    399\u001b[0m \u001b[38;5;28;01mtry\u001b[39;00m:\n\u001b[1;32m    400\u001b[0m     \u001b[38;5;66;03m#loader = _LoaderRegistry[extension][0]\u001b[39;00m\n\u001b[0;32m--> 401\u001b[0m     loader \u001b[38;5;241m=\u001b[39m \u001b[43mFormatRegistry\u001b[49m\u001b[38;5;241;43m.\u001b[39;49m\u001b[43mloaders\u001b[49m\u001b[43m[\u001b[49m\u001b[43mextension\u001b[49m\u001b[43m]\u001b[49m\n\u001b[1;32m    402\u001b[0m \u001b[38;5;28;01mexcept\u001b[39;00m \u001b[38;5;167;01mKeyError\u001b[39;00m:\n",
      "\u001b[0;31mKeyError\u001b[0m: '.tpr'",
      "\nDuring handling of the above exception, another exception occurred:\n",
      "\u001b[0;31mOSError\u001b[0m                                   Traceback (most recent call last)",
      "Cell \u001b[0;32mIn [4], line 6\u001b[0m\n\u001b[1;32m      3\u001b[0m \u001b[38;5;28;01mimport\u001b[39;00m \u001b[38;5;21;01mnumpy\u001b[39;00m \u001b[38;5;28;01mas\u001b[39;00m \u001b[38;5;21;01mnp\u001b[39;00m\n\u001b[1;32m      5\u001b[0m \u001b[38;5;66;03m# Load the trajectory\u001b[39;00m\n\u001b[0;32m----> 6\u001b[0m traj \u001b[38;5;241m=\u001b[39m \u001b[43mmd\u001b[49m\u001b[38;5;241;43m.\u001b[39;49m\u001b[43mload\u001b[49m\u001b[43m(\u001b[49m\u001b[38;5;124;43m'\u001b[39;49m\u001b[38;5;124;43m../Data/md_15ns.tpr\u001b[39;49m\u001b[38;5;124;43m'\u001b[39;49m\u001b[43m,\u001b[49m\u001b[43m \u001b[49m\u001b[43mtop\u001b[49m\u001b[38;5;241;43m=\u001b[39;49m\u001b[38;5;124;43m'\u001b[39;49m\u001b[38;5;124;43m../Inputs/adp.gro\u001b[39;49m\u001b[38;5;124;43m'\u001b[39;49m\u001b[43m)\u001b[49m  \u001b[38;5;66;03m# Load the .tpr trajectory with the .gro file as topology\u001b[39;00m\n\u001b[1;32m      8\u001b[0m \u001b[38;5;66;03m# Compute the dihedral angles\u001b[39;00m\n\u001b[1;32m      9\u001b[0m phi_indices, phis \u001b[38;5;241m=\u001b[39m md\u001b[38;5;241m.\u001b[39mcompute_phi(traj)\n",
      "File \u001b[0;32m/ext3/miniconda3/lib/python3.9/site-packages/mdtraj/core/trajectory.py:403\u001b[0m, in \u001b[0;36mload\u001b[0;34m(filename_or_filenames, discard_overlapping_frames, **kwargs)\u001b[0m\n\u001b[1;32m    401\u001b[0m     loader \u001b[38;5;241m=\u001b[39m FormatRegistry\u001b[38;5;241m.\u001b[39mloaders[extension]\n\u001b[1;32m    402\u001b[0m \u001b[38;5;28;01mexcept\u001b[39;00m \u001b[38;5;167;01mKeyError\u001b[39;00m:\n\u001b[0;32m--> 403\u001b[0m     \u001b[38;5;28;01mraise\u001b[39;00m \u001b[38;5;167;01mIOError\u001b[39;00m(\u001b[38;5;124m'\u001b[39m\u001b[38;5;124mSorry, no loader for filename=\u001b[39m\u001b[38;5;132;01m%s\u001b[39;00m\u001b[38;5;124m (extension=\u001b[39m\u001b[38;5;132;01m%s\u001b[39;00m\u001b[38;5;124m) \u001b[39m\u001b[38;5;124m'\u001b[39m\n\u001b[1;32m    404\u001b[0m                 \u001b[38;5;124m'\u001b[39m\u001b[38;5;124mwas found. I can only load files \u001b[39m\u001b[38;5;124m'\u001b[39m\n\u001b[1;32m    405\u001b[0m                 \u001b[38;5;124m'\u001b[39m\u001b[38;5;124mwith extensions in \u001b[39m\u001b[38;5;132;01m%s\u001b[39;00m\u001b[38;5;124m'\u001b[39m \u001b[38;5;241m%\u001b[39m (\n\u001b[1;32m    406\u001b[0m                     filename_or_filenames[\u001b[38;5;241m0\u001b[39m], extension, FormatRegistry\u001b[38;5;241m.\u001b[39mloaders\u001b[38;5;241m.\u001b[39mkeys()))\n\u001b[1;32m    408\u001b[0m \u001b[38;5;28;01mif\u001b[39;00m loader\u001b[38;5;241m.\u001b[39m\u001b[38;5;18m__name__\u001b[39m \u001b[38;5;129;01mnot\u001b[39;00m \u001b[38;5;129;01min\u001b[39;00m [\u001b[38;5;124m'\u001b[39m\u001b[38;5;124mload_dtr\u001b[39m\u001b[38;5;124m'\u001b[39m]:\n\u001b[1;32m    409\u001b[0m         _assert_files_exist(filename_or_filenames)\n",
      "\u001b[0;31mOSError\u001b[0m: Sorry, no loader for filename=../Data/md_15ns.tpr (extension=.tpr) was found. I can only load files with extensions in dict_keys(['.arc', '.dcd', '.binpos', '.xtc', '.trr', '.hdf5', '.h5', '.ncdf', '.netcdf', '.nc', '.pdb.gz', '.pdb', '.lh5', '.crd', '.mdcrd', '.inpcrd', '.restrt', '.rst7', '.ncrst', '.lammpstrj', '.dtr', '.stk', '.gro', '.xyz.gz', '.xyz', '.tng', '.xml', '.mol2', '.hoomdxml', '.gsd'])"
     ]
    }
   ],
   "source": [
    "import mdtraj as md\n",
    "import matplotlib.pyplot as plt\n",
    "import numpy as np\n",
    "\n",
    "# Load the trajectory\n",
    "traj = md.load('../Data/md_15ns.tpr', top='../Inputs/adp.gro')  # Load the .tpr trajectory with the .gro file as topology\n",
    "\n",
    "# Compute the dihedral angles\n",
    "phi_indices, phis = md.compute_phi(traj)\n",
    "psi_indices, psis = md.compute_psi(traj)\n",
    "\n",
    "# Time in nanoseconds\n",
    "time = np.linspace(0, traj.n_frames * 0.002, traj.n_frames)  # Assuming dt = 0.002 ps per frame\n",
    "\n",
    "# Plotting phi vs time\n",
    "plt.figure(figsize=(10, 6))\n",
    "plt.plot(time, np.rad2deg(phis), label=\"Phi\")\n",
    "plt.xlabel('Time (ns)')\n",
    "plt.ylabel('Phi Dihedral (degrees)')\n",
    "plt.title('Phi Dihedral vs Time')\n",
    "plt.legend()\n",
    "plt.grid(True)\n",
    "plt.savefig('../Figures/phi_vs_time.png')  # Save figure to your Figures directory\n",
    "plt.show()\n",
    "\n",
    "# Plotting psi vs time\n",
    "plt.figure(figsize=(10, 6))\n",
    "plt.plot(time, np.rad2deg(psis), label=\"Psi\", color='orange')\n",
    "plt.xlabel('Time (ns)')\n",
    "plt.ylabel('Psi Dihedral (degrees)')\n",
    "plt.title('Psi Dihedral vs Time')\n",
    "plt.legend()\n",
    "plt.grid(True)\n",
    "plt.savefig('../Figures/psi_vs_time.png')  # Save figure to your Figures directory\n",
    "plt.show()\n"
   ]
  },
  {
   "cell_type": "code",
   "execution_count": null,
   "id": "a65c3ccd-5f4c-4606-ab57-58c2e05b5aee",
   "metadata": {},
   "outputs": [],
   "source": []
  }
 ],
 "metadata": {
  "kernelspec": {
   "display_name": "lab_env_2024",
   "language": "python",
   "name": "lab_env_2024"
  },
  "language_info": {
   "codemirror_mode": {
    "name": "ipython",
    "version": 3
   },
   "file_extension": ".py",
   "mimetype": "text/x-python",
   "name": "python",
   "nbconvert_exporter": "python",
   "pygments_lexer": "ipython3",
   "version": "3.9.12"
  }
 },
 "nbformat": 4,
 "nbformat_minor": 5
}
