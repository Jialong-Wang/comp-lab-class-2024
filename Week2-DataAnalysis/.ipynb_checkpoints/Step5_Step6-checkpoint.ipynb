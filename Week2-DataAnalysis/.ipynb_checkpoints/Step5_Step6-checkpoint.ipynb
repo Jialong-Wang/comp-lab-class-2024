{
 "cells": [
  {
   "cell_type": "code",
   "execution_count": 2,
   "id": "494cc6ba-6ed7-45c0-957e-e72a449a7c13",
   "metadata": {},
   "outputs": [
    {
     "name": "stdout",
     "output_type": "stream",
     "text": [
      "Ubiquitin structure loaded.\n",
      "Number of atoms: 1405\n",
      "Number of residues: 134\n",
      "Number of frames: 1\n",
      "Total number of hydrogen bonds: 57\n",
      "Number of helical residues: 18\n",
      "jw8872 Jialong Wang DO NOT COPY since it belongs to the course material\n",
      "Secondary structure breakdown: {'C': 32, 'E': 26, 'H': 18, 'NA': 58}\n"
     ]
    }
   ],
   "source": [
    "# This Python Script is created by Jialong Wang, entirely or mostly with the help of ChatGPT for CHEM 2671 Class\n",
    "# Jialong Wang\n",
    "# Sept. 12, 2024\n",
    "# CHEM GA 2671, Fall 2024\n",
    "\n",
    "# Import necessary libraries\n",
    "import mdtraj as md\n",
    "import numpy as np\n",
    "\n",
    "# Load the ubiquitin structure from a PDB file\n",
    "# Replace 'ubiquitin.pdb' with the actual path to your PDB file\n",
    "ubiquitin = md.load('Data/1UBQ_processed.pdb')\n",
    "\n",
    "################## Notes by Jialong below\n",
    "################## I am using 1UBQ_processed.pdb version, if needed, use \"ubiquitin = md.load('Data/1UBQ.pdb')\" instead ##################\n",
    "\n",
    "# a) Read in the ubiquitin structure\n",
    "print(\"Ubiquitin structure loaded.\")\n",
    "print(f\"Number of atoms: {ubiquitin.n_atoms}\")\n",
    "print(f\"Number of residues: {ubiquitin.n_residues}\")\n",
    "print(f\"Number of frames: {ubiquitin.n_frames}\")\n",
    "\n",
    "# b) Calculate and print the total number of hydrogen bonds\n",
    "hbonds = md.baker_hubbard(ubiquitin, periodic=False)\n",
    "print(f\"Total number of hydrogen bonds: {len(hbonds)}\")\n",
    "\n",
    "# c) Compute the number of helical amino acids\n",
    "# Use DSSP to compute the secondary structure\n",
    "dssp = md.compute_dssp(ubiquitin)\n",
    "\n",
    "# DSSP assigns a letter for each residue indicating its secondary structure:\n",
    "# 'H' for alpha helix, 'E' for beta strand, etc.\n",
    "helical_residues = np.sum(np.array(dssp) == 'H')\n",
    "print(f\"Number of helical residues: {helical_residues}\")\n",
    "\n",
    "# Print my ID\n",
    "print(\"jw8872 Jialong Wang DO NOT COPY since it belongs to the course material\")\n",
    "\n",
    "# Optional: Print a breakdown of the secondary structure\n",
    "unique, counts = np.unique(dssp, return_counts=True)\n",
    "ss_counts = dict(zip(unique, counts))\n",
    "print(\"Secondary structure breakdown:\", ss_counts)\n"
   ]
  }
 ],
 "metadata": {
  "kernelspec": {
   "display_name": "lab_env_2024",
   "language": "python",
   "name": "lab_env_2024"
  },
  "language_info": {
   "codemirror_mode": {
    "name": "ipython",
    "version": 3
   },
   "file_extension": ".py",
   "mimetype": "text/x-python",
   "name": "python",
   "nbconvert_exporter": "python",
   "pygments_lexer": "ipython3",
   "version": "3.9.12"
  }
 },
 "nbformat": 4,
 "nbformat_minor": 5
}
