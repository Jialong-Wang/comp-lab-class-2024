{
 "cells": [
  {
   "cell_type": "code",
   "execution_count": 2,
   "id": "6594e68e-18bc-49b8-ad21-8b4561347d65",
   "metadata": {},
   "outputs": [
    {
     "name": "stdout",
     "output_type": "stream",
     "text": [
      "Defaulting to user installation because normal site-packages is not writeable\n",
      "Collecting imageio\n",
      "  Downloading imageio-2.36.0-py3-none-any.whl (315 kB)\n",
      "\u001b[2K     \u001b[90m━━━━━━━━━━━━━━━━━━━━━━━━━━━━━━━━━━━━━━━\u001b[0m \u001b[32m315.4/315.4 kB\u001b[0m \u001b[31m6.2 MB/s\u001b[0m eta \u001b[36m0:00:00\u001b[0m00:01\u001b[0m\n",
      "\u001b[?25hRequirement already satisfied: numpy in /ext3/miniconda3/lib/python3.9/site-packages (from imageio) (1.21.5)\n",
      "Requirement already satisfied: pillow>=8.3.2 in /ext3/miniconda3/lib/python3.9/site-packages (from imageio) (9.2.0)\n",
      "Installing collected packages: imageio\n",
      "\u001b[33m  WARNING: The scripts imageio_download_bin and imageio_remove_bin are installed in '/home/jw8872/.local/bin' which is not on PATH.\n",
      "  Consider adding this directory to PATH or, if you prefer to suppress this warning, use --no-warn-script-location.\u001b[0m\u001b[33m\n",
      "\u001b[0mSuccessfully installed imageio-2.36.0\n"
     ]
    }
   ],
   "source": [
    "!pip install imageio"
   ]
  },
  {
   "cell_type": "code",
   "execution_count": 4,
   "id": "1b8eb089-32a6-47ae-b678-b3db07fe8800",
   "metadata": {},
   "outputs": [],
   "source": [
    "import numpy as np\n",
    "import matplotlib.pyplot as plt\n",
    "import glob\n",
    "import imageio.v2 as imageio  # Explicitly import imageio.v2\n",
    "import os\n",
    "\n",
    "# Ensure the output directory for figures exists\n",
    "if not os.path.exists('Bonus_Figures'):\n",
    "    os.makedirs('Bonus_Figures')\n",
    "\n",
    "# Load and plot all FES profiles from Bonus_Output directory\n",
    "filenames = sorted(glob.glob('Bonus_Output/fes_2d_stride*.dat'))\n",
    "images = []\n",
    "\n",
    "for filename in filenames:\n",
    "    fes_data = np.loadtxt(filename)\n",
    "    phi_values = np.unique(fes_data[:, 0])\n",
    "    psi_values = np.unique(fes_data[:, 1])\n",
    "    free_energy = fes_data[:, 2].reshape(len(phi_values), len(psi_values))\n",
    "    \n",
    "    plt.figure(figsize=(8, 6))\n",
    "    plt.imshow(free_energy, extent=[-np.pi, np.pi, -np.pi, np.pi], origin='lower', cmap='viridis', aspect='auto')\n",
    "    plt.colorbar(label='Free Energy (kJ/mol)')\n",
    "    plt.contour(phi_values, psi_values, free_energy, colors='white', levels=10)\n",
    "    plt.xlabel('Phi (radians)')\n",
    "    plt.ylabel('Psi (radians)')\n",
    "    plt.title(f'2D Free Energy Surface (FES) at {filename}')\n",
    "    \n",
    "    # Save the figure in the Bonus_Figures directory\n",
    "    png_filename = f'Bonus_Figures/{os.path.basename(filename)}.png'\n",
    "    plt.savefig(png_filename)\n",
    "    plt.close()\n",
    "    \n",
    "    images.append(imageio.imread(png_filename))  # Add image to list for GIF\n",
    "\n",
    "# Create an animated GIF and save it into Bonus_Figures directory\n",
    "gif_filename = 'Bonus_Figures/2d_fes_animation.gif'\n",
    "imageio.mimsave(gif_filename, images, fps=2)  # Save as GIF with 2 frames per second\n"
   ]
  },
  {
   "cell_type": "code",
   "execution_count": null,
   "id": "830dfefa-a143-4d0a-8cc3-04ddbec2a899",
   "metadata": {},
   "outputs": [],
   "source": []
  }
 ],
 "metadata": {
  "kernelspec": {
   "display_name": "lab_env_2024",
   "language": "python",
   "name": "lab_env_2024"
  },
  "language_info": {
   "codemirror_mode": {
    "name": "ipython",
    "version": 3
   },
   "file_extension": ".py",
   "mimetype": "text/x-python",
   "name": "python",
   "nbconvert_exporter": "python",
   "pygments_lexer": "ipython3",
   "version": "3.9.12"
  }
 },
 "nbformat": 4,
 "nbformat_minor": 5
}
