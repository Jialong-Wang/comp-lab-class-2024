{
 "cells": [
  {
   "cell_type": "code",
   "execution_count": 1,
   "id": "8565b944-ec20-4191-82cd-e8216bea718f",
   "metadata": {},
   "outputs": [
    {
     "name": "stdout",
     "output_type": "stream",
     "text": [
      "State A - Standard Deviation of Phi: 0.5568802296838808\n",
      "State A - Standard Deviation of Psi: 1.0294566128425275\n",
      "State B - Standard Deviation of Phi: 0.13213973950615396\n",
      "State B - Standard Deviation of Psi: 0.34165445114938153\n"
     ]
    }
   ],
   "source": [
    "import numpy as np\n",
    "\n",
    "# Load the COLVAR file for State A\n",
    "colvar_dataA = np.loadtxt('stateA_simulation/COLVAR')\n",
    "\n",
    "# Extract phi and psi columns from COLVAR for State A (assuming they are in columns 2 and 3)\n",
    "phi_colvar_A = colvar_dataA[:, 1]  # Column 2 contains Phi for State A\n",
    "psi_colvar_A = colvar_dataA[:, 2]  # Column 3 contains Psi for State A\n",
    "\n",
    "# Compute the standard deviations for Phi and Psi for State A\n",
    "std_phi_A = np.std(phi_colvar_A)  # Standard deviation of Phi for State A\n",
    "std_psi_A = np.std(psi_colvar_A)  # Standard deviation of Psi for State A\n",
    "\n",
    "# Load the COLVAR file for State B\n",
    "colvar_dataB = np.loadtxt('stateB_simulation/COLVAR')\n",
    "\n",
    "# Extract phi and psi columns from COLVAR for State B (assuming they are in columns 2 and 3)\n",
    "phi_colvar_B = colvar_dataB[:, 1]  # Column 2 contains Phi for State B\n",
    "psi_colvar_B = colvar_dataB[:, 2]  # Column 3 contains Psi for State B\n",
    "\n",
    "# Compute the standard deviations for Phi and Psi for State B\n",
    "std_phi_B = np.std(phi_colvar_B)  # Standard deviation of Phi for State B\n",
    "std_psi_B = np.std(psi_colvar_B)  # Standard deviation of Psi for State B\n",
    "\n",
    "output_content = (\n",
    "    f\"State A - Standard Deviation of Phi: {std_phi_A}\\n\"\n",
    "    f\"State A - Standard Deviation of Psi: {std_psi_A}\\n\"\n",
    "    f\"State B - Standard Deviation of Phi: {std_phi_B}\\n\"\n",
    "    f\"State B - Standard Deviation of Psi: {std_psi_B}\\n\"\n",
    ")\n",
    "\n",
    "# Save the output to a text file in the current directory\n",
    "with open('Step5_Results/dihedral_standard_deviations.txt', 'w') as f:\n",
    "    f.write(output_content)\n",
    "\n",
    "print(\"Standard deviations saved to dihedral_standard_deviations.txt\")"
   ]
  },
  {
   "cell_type": "code",
   "execution_count": null,
   "id": "fc2c038e-853f-439f-8547-9c8f46206cdb",
   "metadata": {},
   "outputs": [],
   "source": []
  }
 ],
 "metadata": {
  "kernelspec": {
   "display_name": "lab_env_2024",
   "language": "python",
   "name": "lab_env_2024"
  },
  "language_info": {
   "codemirror_mode": {
    "name": "ipython",
    "version": 3
   },
   "file_extension": ".py",
   "mimetype": "text/x-python",
   "name": "python",
   "nbconvert_exporter": "python",
   "pygments_lexer": "ipython3",
   "version": "3.9.12"
  }
 },
 "nbformat": 4,
 "nbformat_minor": 5
}
