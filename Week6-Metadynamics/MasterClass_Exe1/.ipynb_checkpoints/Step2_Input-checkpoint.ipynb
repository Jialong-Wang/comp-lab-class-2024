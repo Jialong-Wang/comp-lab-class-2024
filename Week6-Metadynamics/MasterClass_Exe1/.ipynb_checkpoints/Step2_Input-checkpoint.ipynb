{
 "cells": [
  {
   "cell_type": "code",
   "execution_count": 3,
   "id": "e5277a3f-1578-4360-b3d1-ac5fe4589fa4",
   "metadata": {},
   "outputs": [
    {
     "name": "stdout",
     "output_type": "stream",
     "text": [
      "plumed.dat files created for both stateA_simulation and stateB_simulation.\n"
     ]
    }
   ],
   "source": [
    "# Create a plumed.dat file using Python in Jupyter Notebook\n",
    "plumed_content_A = \"\"\"# Activate MOLINFO functionalities\n",
    "MOLINFO STRUCTURE=../../Inputs/dialaA.pdb\n",
    "\n",
    "# Compute the backbone dihedral angle phi, defined by atoms C-N-CA-C\n",
    "phi: TORSION ATOMS=5,7,9,15\n",
    "\n",
    "# Compute the backbone dihedral angle psi, defined by atoms N-CA-C-N\n",
    "psi: TORSION ATOMS=7,9,15,17\n",
    "\n",
    "# Print the two collective variables on COLVAR file every step\n",
    "PRINT ARG=phi,psi FILE=COLVAR STRIDE=10\n",
    "\"\"\"\n",
    "plumed_content_B = \"\"\"# Activate MOLINFO functionalities\n",
    "MOLINFO STRUCTURE=../../Inputs/dialaB.pdb\n",
    "\n",
    "# Compute the backbone dihedral angle phi, defined by atoms C-N-CA-C\n",
    "phi: TORSION ATOMS=5,7,9,15\n",
    "\n",
    "# Compute the backbone dihedral angle psi, defined by atoms N-CA-C-N\n",
    "psi: TORSION ATOMS=7,9,15,17\n",
    "\n",
    "# Print the two collective variables on COLVAR file every step\n",
    "PRINT ARG=phi,psi FILE=COLVAR STRIDE=10\n",
    "\"\"\"\n",
    "\n",
    "# Write the plumed content to plumed.dat in both directories (stateA_simulation and stateB_simulation)\n",
    "with open('stateA_simulation/plumed.dat', 'w') as f:\n",
    "    f.write(plumed_content_A)\n",
    "\n",
    "with open('stateB_simulation/plumed.dat', 'w') as f:\n",
    "    f.write(plumed_content_B)\n",
    "\n",
    "print(\"plumed.dat files created for both stateA_simulation and stateB_simulation.\")\n"
   ]
  },
  {
   "cell_type": "code",
   "execution_count": null,
   "id": "f3839b05-d57f-44a6-9c8e-d287b52fafdf",
   "metadata": {},
   "outputs": [],
   "source": []
  }
 ],
 "metadata": {
  "kernelspec": {
   "display_name": "lab_env_2024",
   "language": "python",
   "name": "lab_env_2024"
  },
  "language_info": {
   "codemirror_mode": {
    "name": "ipython",
    "version": 3
   },
   "file_extension": ".py",
   "mimetype": "text/x-python",
   "name": "python",
   "nbconvert_exporter": "python",
   "pygments_lexer": "ipython3",
   "version": "3.9.12"
  }
 },
 "nbformat": 4,
 "nbformat_minor": 5
}
